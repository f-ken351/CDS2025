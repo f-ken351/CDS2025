{
  "cells": [
    {
      "cell_type": "markdown",
      "metadata": {
        "id": "EgkS2QkcBZfb"
      },
      "source": [
        "## 知識情報学第4回サンプルプログラム ex4.ipynb\n",
        "- Programmed by Nattapong Thammasan, 監修　福井健一\n",
        "- Last updated: 2021/11/02\n",
        "- Checked with Python 3.9.7, scikit-learn 1.3\n",
        "- MIT License\n",
        "\n",
        "## ゴルフプレイデータのナイーブベイズ分類器による識別とROC,AUCによる評価\n",
        "- データweather.nominal.arffは本プログラムと同じフォルダ内に置いておく"
      ]
    },
    {
      "cell_type": "code",
      "execution_count": null,
      "metadata": {
        "id": "4loXDnREBZfc"
      },
      "outputs": [],
      "source": [
        "%matplotlib inline\n",
        "import numpy as np\n",
        "from scipy.io import arff\n",
        "import pandas as pd\n",
        "from sklearn.preprocessing import OrdinalEncoder\n",
        "from sklearn.model_selection import LeaveOneOut\n",
        "from sklearn.metrics import roc_curve,roc_auc_score,auc\n",
        "import matplotlib.pyplot as plt\n",
        "from sklearn.naive_bayes import CategoricalNB"
      ]
    },
    {
      "cell_type": "markdown",
      "metadata": {
        "id": "vZfaCkTJBZfd"
      },
      "source": [
        "### arffデータの読み込み"
      ]
    },
    {
      "cell_type": "code",
      "execution_count": null,
      "metadata": {
        "id": "-thjHvTcBZfd",
        "outputId": "ad74fde9-9c23-4575-c071-0926a6c2dd21"
      },
      "outputs": [
        {
          "data": {
            "text/html": [
              "<div>\n",
              "<style scoped>\n",
              "    .dataframe tbody tr th:only-of-type {\n",
              "        vertical-align: middle;\n",
              "    }\n",
              "\n",
              "    .dataframe tbody tr th {\n",
              "        vertical-align: top;\n",
              "    }\n",
              "\n",
              "    .dataframe thead th {\n",
              "        text-align: right;\n",
              "    }\n",
              "</style>\n",
              "<table border=\"1\" class=\"dataframe\">\n",
              "  <thead>\n",
              "    <tr style=\"text-align: right;\">\n",
              "      <th></th>\n",
              "      <th>outlook</th>\n",
              "      <th>temperature</th>\n",
              "      <th>humidity</th>\n",
              "      <th>windy</th>\n",
              "      <th>play</th>\n",
              "    </tr>\n",
              "  </thead>\n",
              "  <tbody>\n",
              "    <tr>\n",
              "      <th>0</th>\n",
              "      <td>b'sunny'</td>\n",
              "      <td>b'hot'</td>\n",
              "      <td>b'high'</td>\n",
              "      <td>b'FALSE'</td>\n",
              "      <td>b'no'</td>\n",
              "    </tr>\n",
              "    <tr>\n",
              "      <th>1</th>\n",
              "      <td>b'sunny'</td>\n",
              "      <td>b'hot'</td>\n",
              "      <td>b'high'</td>\n",
              "      <td>b'TRUE'</td>\n",
              "      <td>b'no'</td>\n",
              "    </tr>\n",
              "    <tr>\n",
              "      <th>2</th>\n",
              "      <td>b'overcast'</td>\n",
              "      <td>b'hot'</td>\n",
              "      <td>b'high'</td>\n",
              "      <td>b'FALSE'</td>\n",
              "      <td>b'yes'</td>\n",
              "    </tr>\n",
              "    <tr>\n",
              "      <th>3</th>\n",
              "      <td>b'rainy'</td>\n",
              "      <td>b'mild'</td>\n",
              "      <td>b'high'</td>\n",
              "      <td>b'FALSE'</td>\n",
              "      <td>b'yes'</td>\n",
              "    </tr>\n",
              "    <tr>\n",
              "      <th>4</th>\n",
              "      <td>b'rainy'</td>\n",
              "      <td>b'cool'</td>\n",
              "      <td>b'normal'</td>\n",
              "      <td>b'FALSE'</td>\n",
              "      <td>b'yes'</td>\n",
              "    </tr>\n",
              "    <tr>\n",
              "      <th>5</th>\n",
              "      <td>b'rainy'</td>\n",
              "      <td>b'cool'</td>\n",
              "      <td>b'normal'</td>\n",
              "      <td>b'TRUE'</td>\n",
              "      <td>b'no'</td>\n",
              "    </tr>\n",
              "    <tr>\n",
              "      <th>6</th>\n",
              "      <td>b'overcast'</td>\n",
              "      <td>b'cool'</td>\n",
              "      <td>b'normal'</td>\n",
              "      <td>b'TRUE'</td>\n",
              "      <td>b'yes'</td>\n",
              "    </tr>\n",
              "    <tr>\n",
              "      <th>7</th>\n",
              "      <td>b'sunny'</td>\n",
              "      <td>b'mild'</td>\n",
              "      <td>b'high'</td>\n",
              "      <td>b'FALSE'</td>\n",
              "      <td>b'no'</td>\n",
              "    </tr>\n",
              "    <tr>\n",
              "      <th>8</th>\n",
              "      <td>b'sunny'</td>\n",
              "      <td>b'cool'</td>\n",
              "      <td>b'normal'</td>\n",
              "      <td>b'FALSE'</td>\n",
              "      <td>b'yes'</td>\n",
              "    </tr>\n",
              "    <tr>\n",
              "      <th>9</th>\n",
              "      <td>b'rainy'</td>\n",
              "      <td>b'mild'</td>\n",
              "      <td>b'normal'</td>\n",
              "      <td>b'FALSE'</td>\n",
              "      <td>b'yes'</td>\n",
              "    </tr>\n",
              "    <tr>\n",
              "      <th>10</th>\n",
              "      <td>b'sunny'</td>\n",
              "      <td>b'mild'</td>\n",
              "      <td>b'normal'</td>\n",
              "      <td>b'TRUE'</td>\n",
              "      <td>b'yes'</td>\n",
              "    </tr>\n",
              "    <tr>\n",
              "      <th>11</th>\n",
              "      <td>b'overcast'</td>\n",
              "      <td>b'mild'</td>\n",
              "      <td>b'high'</td>\n",
              "      <td>b'TRUE'</td>\n",
              "      <td>b'yes'</td>\n",
              "    </tr>\n",
              "    <tr>\n",
              "      <th>12</th>\n",
              "      <td>b'overcast'</td>\n",
              "      <td>b'hot'</td>\n",
              "      <td>b'normal'</td>\n",
              "      <td>b'FALSE'</td>\n",
              "      <td>b'yes'</td>\n",
              "    </tr>\n",
              "    <tr>\n",
              "      <th>13</th>\n",
              "      <td>b'rainy'</td>\n",
              "      <td>b'mild'</td>\n",
              "      <td>b'high'</td>\n",
              "      <td>b'TRUE'</td>\n",
              "      <td>b'no'</td>\n",
              "    </tr>\n",
              "  </tbody>\n",
              "</table>\n",
              "</div>"
            ],
            "text/plain": [
              "        outlook temperature   humidity     windy    play\n",
              "0      b'sunny'      b'hot'    b'high'  b'FALSE'   b'no'\n",
              "1      b'sunny'      b'hot'    b'high'   b'TRUE'   b'no'\n",
              "2   b'overcast'      b'hot'    b'high'  b'FALSE'  b'yes'\n",
              "3      b'rainy'     b'mild'    b'high'  b'FALSE'  b'yes'\n",
              "4      b'rainy'     b'cool'  b'normal'  b'FALSE'  b'yes'\n",
              "5      b'rainy'     b'cool'  b'normal'   b'TRUE'   b'no'\n",
              "6   b'overcast'     b'cool'  b'normal'   b'TRUE'  b'yes'\n",
              "7      b'sunny'     b'mild'    b'high'  b'FALSE'   b'no'\n",
              "8      b'sunny'     b'cool'  b'normal'  b'FALSE'  b'yes'\n",
              "9      b'rainy'     b'mild'  b'normal'  b'FALSE'  b'yes'\n",
              "10     b'sunny'     b'mild'  b'normal'   b'TRUE'  b'yes'\n",
              "11  b'overcast'     b'mild'    b'high'   b'TRUE'  b'yes'\n",
              "12  b'overcast'      b'hot'  b'normal'  b'FALSE'  b'yes'\n",
              "13     b'rainy'     b'mild'    b'high'   b'TRUE'   b'no'"
            ]
          },
          "execution_count": 3,
          "metadata": {},
          "output_type": "execute_result"
        }
      ],
      "source": [
        "f = open(\"weather.nominal.arff\", \"r\", encoding=\"utf-8\")\n",
        "data, meta = arff.loadarff(f)\n",
        "df_data= pd.DataFrame(data)\n",
        "df_data"
      ]
    },
    {
      "cell_type": "markdown",
      "metadata": {
        "id": "5woluSjbBZfe"
      },
      "source": [
        "### OrdinalEncoderを使ってラベル特徴を数値に変換\n",
        "例えば，変数outlookの値{sunny, overcast, rainy}は，{0,1,2}に変換される"
      ]
    },
    {
      "cell_type": "code",
      "execution_count": null,
      "metadata": {
        "id": "Vwq3_ay8BZfe",
        "outputId": "ac3d82d2-c371-43cd-b027-10e450c9af20"
      },
      "outputs": [
        {
          "data": {
            "text/plain": [
              "(array([[2., 1., 0., 0.],\n",
              "        [2., 1., 0., 1.],\n",
              "        [0., 1., 0., 0.],\n",
              "        [1., 2., 0., 0.],\n",
              "        [1., 0., 1., 0.],\n",
              "        [1., 0., 1., 1.],\n",
              "        [0., 0., 1., 1.],\n",
              "        [2., 2., 0., 0.],\n",
              "        [2., 0., 1., 0.],\n",
              "        [1., 2., 1., 0.],\n",
              "        [2., 2., 1., 1.],\n",
              "        [0., 2., 0., 1.],\n",
              "        [0., 1., 1., 0.],\n",
              "        [1., 2., 0., 1.]]),\n",
              " array([0., 0., 1., 1., 1., 0., 1., 0., 1., 1., 1., 1., 1., 0.]))"
            ]
          },
          "execution_count": 4,
          "metadata": {},
          "output_type": "execute_result"
        }
      ],
      "source": [
        "enc = OrdinalEncoder()\n",
        "feature_encorded = enc.fit_transform(df_data.loc[:,['outlook','temperature', 'humidity', 'windy']])\n",
        "class_encorded = np.ravel(enc.fit_transform(df_data.loc[:,['play']])) # np.ravel()で1次元化\n",
        "\n",
        "feature_encorded, class_encorded"
      ]
    },
    {
      "cell_type": "markdown",
      "metadata": {
        "id": "Q0AusBhuBZfe"
      },
      "source": [
        "### 1つ抜き交差検証（Leave-one-out cross-validation）\n",
        "全N個のデータから1個を除いた(N-1)個を学習データとしてモデルを学習し，残りの1個でテストを行う．これをN回繰り返す．"
      ]
    },
    {
      "cell_type": "code",
      "execution_count": null,
      "metadata": {
        "id": "2RHpVMKzBZfe",
        "outputId": "b866c30d-ee41-4ba1-8556-4eb15ecabf40"
      },
      "outputs": [
        {
          "name": "stdout",
          "output_type": "stream",
          "text": [
            "True Label: [0.]\n",
            "Posterior Probability: [[0.45539547 0.54460453]]\n",
            "True Label: [0.]\n",
            "Posterior Probability: [[0.68701207 0.31298793]]\n",
            "True Label: [1.]\n",
            "Posterior Probability: [[0.42974366 0.57025634]]\n",
            "True Label: [1.]\n",
            "Posterior Probability: [[0.60114784 0.39885216]]\n",
            "True Label: [1.]\n",
            "Posterior Probability: [[0.21132271 0.78867729]]\n",
            "True Label: [0.]\n",
            "Posterior Probability: [[0.05553006 0.94446994]]\n",
            "True Label: [1.]\n",
            "Posterior Probability: [[0.15155766 0.84844234]]\n",
            "True Label: [0.]\n",
            "Posterior Probability: [[0.33409552 0.66590448]]\n",
            "True Label: [1.]\n",
            "Posterior Probability: [[0.34891232 0.65108768]]\n",
            "True Label: [1.]\n",
            "Posterior Probability: [[0.23161973 0.76838027]]\n",
            "True Label: [1.]\n",
            "Posterior Probability: [[0.61651653 0.38348347]]\n",
            "True Label: [1.]\n",
            "Posterior Probability: [[0.50119624 0.49880376]]\n",
            "True Label: [1.]\n",
            "Posterior Probability: [[0.13097846 0.86902154]]\n",
            "True Label: [0.]\n",
            "Posterior Probability: [[0.39704676 0.60295324]]\n"
          ]
        }
      ],
      "source": [
        "y_train_post_list,y_train_list,y_test_post_list,y_test_list = [],[],[],[]\n",
        "\n",
        "loo = LeaveOneOut()\n",
        "for train_index, test_index in loo.split(feature_encorded):\n",
        "    # 課題1(a) LeaveOneOutの反復毎の学習データおよびテストデータを用意\n",
        "    X_train, X_test = [YOUR CODE HERE]\n",
        "    y_train, y_test = [YOUR CODE HERE]\n",
        "\n",
        "    # =====================================================================\n",
        "    # 課題1(b) カテゴリカルナイーブベイズ（CategoricalNB）のインスタンスの生成と学習データへの適合\n",
        "    # https://scikit-learn.org/stable/modules/generated/sklearn.naive_bayes.CategoricalNB.html\n",
        "    # alpha(>0)はスムージングのパラメータ．\n",
        "    # fit_prior=Trueに指定すると学習データから事前確率を求める．\n",
        "    # class_priorは，class_prior=[0.2,0.8]の形で事前確率を指定する．fit_prior=Falseのときに有効．\n",
        "\n",
        "    [YOUR CODE HERE]\n",
        "\n",
        "    # =====================================================================\n",
        "    # 課題1(c) 学習データとテストデータに対する各クラスの事後確率を算出\n",
        "    posterior_trn = [YOUR CODE HERE]\n",
        "    posterior_tst = [YOUR CODE HERE]\n",
        "\n",
        "    # テストデータの正解クラスと事後確率を出力\n",
        "    print(\"True Label:\", y_test)\n",
        "    print(\"Posterior Probability:\", posterior_tst)\n",
        "\n",
        "    # 正解クラスと事後確率を保存\n",
        "    y_train_post_list.extend(posterior_trn[:,[1]])\n",
        "    y_train_list.extend(y_train)\n",
        "    y_test_post_list.append(posterior_tst[0][1])\n",
        "    y_test_list.extend(y_test)"
      ]
    },
    {
      "cell_type": "markdown",
      "metadata": {
        "id": "hcaxh6N2BZfe"
      },
      "source": [
        "### ROC曲線の描画とAUCの算出\n",
        "- 関数roc_curve()\n",
        "   - https://scikit-learn.org/stable/modules/generated/sklearn.metrics.roc_curve.html\n",
        "- 関数roc_auc_score()\n",
        "   - https://scikit-learn.org/stable/modules/generated/sklearn.metrics.roc_auc_score.html\n",
        "- 関数auc()\n",
        "   - https://scikit-learn.org/stable/modules/generated/sklearn.metrics.auc.html"
      ]
    },
    {
      "cell_type": "code",
      "execution_count": null,
      "metadata": {
        "id": "yNxFbmJKBZfe",
        "outputId": "830f5472-6fe7-4ed4-a953-7fc430028a90"
      },
      "outputs": [
        {
          "data": {
            "image/png": "[encoded data removed]",
            "text/plain": [
              "<Figure size 432x288 with 1 Axes>"
            ]
          },
          "metadata": {
            "needs_background": "light"
          },
          "output_type": "display_data"
        }
      ],
      "source": [
        "# 課題1(d) 学習データおよびテストデータに対するROC曲線の描画とAUCを算出する\n",
        "# ヒント： 関数roc_curve() と 関数roc_auc_score()もしくは関数auc()を使用\n",
        "fpr_trn, tpr_trn, thresholds_trn = [YOUR CODE HERE]\n",
        "roc_auc_trn = [YOUR CODE HERE]\n",
        "plt.plot(fpr_trn, tpr_trn, label='ROC for training data (AUC = %0.4f)' % roc_auc_trn, lw=2, linestyle=\"-\")\n",
        "\n",
        "fpr_tst, tpr_tst, thresholds_tst = [YOUR CODE HERE]\n",
        "roc_auc_tst = [YOUR CODE HERE]\n",
        "plt.plot(fpr_tst, tpr_tst, label='ROC for test data (AUC = %0.4f)' % roc_auc_tst, lw=2, linestyle=\"--\")\n",
        "\n",
        "plt.xlim([-0.05, 1.05])\n",
        "plt.ylim([-0.05, 1.05])\n",
        "plt.xlabel('False Positive Rate')\n",
        "plt.ylabel('True Positive Rate')\n",
        "plt.title('Receiver operating characteristic example')\n",
        "plt.legend(loc=\"lower right\")\n",
        "\n",
        "plt.show()"
      ]
    },
    {
      "cell_type": "markdown",
      "source": [
        "## 課題2（発展）alphaの影響についてAUCとの関係のグラフを描画"
      ],
      "metadata": {
        "id": "y6WMn9EDDEYA"
      }
    },
    {
      "cell_type": "code",
      "source": [],
      "metadata": {
        "id": "WgrMPdLRDGmo"
      },
      "execution_count": null,
      "outputs": []
    }
  ],
  "metadata": {
    "kernelspec": {
      "display_name": "Python 3 (ipykernel)",
      "language": "python",
      "name": "python3"
    },
    "language_info": {
      "codemirror_mode": {
        "name": "ipython",
        "version": 3
      },
      "file_extension": ".py",
      "mimetype": "text/x-python",
      "name": "python",
      "nbconvert_exporter": "python",
      "pygments_lexer": "ipython3",
      "version": "3.8.16"
    },
    "colab": {
      "provenance": []
    }
  },
  "nbformat": 4,
  "nbformat_minor": 0
}