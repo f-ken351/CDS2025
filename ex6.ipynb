{
  "cells": [
    {
      "cell_type": "markdown",
      "metadata": {
        "id": "mw__fLHLJoOn"
      },
      "source": [
        "## 知識情報学第6回演習サンプルプログラム ex6.ipynb\n",
        "- Programmed by Wu Hongle and Ken-ichi Fukui\n",
        "- Last updated: 2019/11/19\n",
        "- Checked with Python 3.9.7, scikit-learn 1.3, optuna 4.4.0\n",
        "- MIT Lisence\n",
        "\n",
        "## SVMによるBreast Cancerデータの識別\n",
        "- Optunaで最適パラメータを探索\n",
        "  - https://optuna.org\n",
        "  - 大まかな使い方は上記のCode Exampleを参照\n"
      ]
    },
    {
      "cell_type": "code",
      "source": [
        "# optunaが入っていない場合，1度だけ下記を実行してインストール\n",
        "# jupyter notebook では先頭に\"!\"を付けると外部コマンドラインとして認識される\n",
        "!pip install optuna"
      ],
      "metadata": {
        "id": "3P0Hl3ZlKWHz"
      },
      "execution_count": null,
      "outputs": []
    },
    {
      "cell_type": "code",
      "execution_count": null,
      "metadata": {
        "id": "zU9D_meZJoOp"
      },
      "outputs": [],
      "source": [
        "import numpy as np\n",
        "from sklearn.svm import SVC\n",
        "from sklearn.datasets import load_breast_cancer\n",
        "from sklearn.model_selection import StratifiedKFold, cross_val_score\n",
        "from sklearn.preprocessing import scale\n",
        "import optuna"
      ]
    },
    {
      "cell_type": "markdown",
      "metadata": {
        "id": "wV2s0K7fJoOq"
      },
      "source": [
        "### Breast Cancerデータのロード"
      ]
    },
    {
      "cell_type": "code",
      "execution_count": null,
      "metadata": {
        "id": "K_qFS8WIJoOq"
      },
      "outputs": [],
      "source": [
        "df = load_breast_cancer()\n",
        "X = df.data\n",
        "y = df.target\n",
        "\n",
        "# z標準化\n",
        "X = scale(X)"
      ]
    },
    {
      "cell_type": "markdown",
      "metadata": {
        "id": "oC4OyHCnJoOq"
      },
      "source": [
        "### 入れ子交差検証でハイパーパラメータを最適化\n",
        "- 【課題1】Optunaを利用してハイパーパラメータを最適化してみましょう．\n",
        "    - SVCの可能なパラメータリストは下記を参照\n",
        "        - http://scikit-learn.org/stable/modules/generated/sklearn.svm.SVC.html#sklearn.svm.SVC\n",
        "    - optunaでパラメータの生成範囲指定は下記を参照（関数 suggest_***）\n",
        "        - https://optuna.readthedocs.io/en/stable/reference/generated/optuna.trial.Trial.html#optuna.trial.Trial"
      ]
    },
    {
      "cell_type": "code",
      "execution_count": null,
      "metadata": {
        "scrolled": true,
        "id": "_3maf7bAJoOq"
      },
      "outputs": [],
      "source": [
        "# 交差検証の平均Accuracyを目的関数とする\n",
        "def objective(trial):\n",
        "\n",
        "    [YOUR CODE HERE]"
      ]
    },
    {
      "cell_type": "code",
      "execution_count": null,
      "metadata": {
        "id": "yyCKvfT7JoOq"
      },
      "outputs": [],
      "source": [
        "# 外側ループのための交差検証用データ生成インスタンス\n",
        "kfold = StratifiedKFold(n_splits=10, shuffle=True, random_state=1)\n",
        "\n",
        "acc_trn_list = []  #外側ループのfold毎の学習データに対するaccuracy格納用\n",
        "acc_tst_list = []  #外側ループのfold毎のテストデータに対するaccuracy格納用\n",
        "param_list = []  #ベストパラメータ格納用\n",
        "smp = optuna.samplers.TPESampler(seed=1)\n",
        "\n",
        "# 外側ループ\n",
        "for train_itr, test_itr in kfold.split(X, y):\n",
        "    X_fold, y_fold = X[train_itr], y[train_itr]\n",
        "    study = optuna.create_study(sampler=smp, direction=\"maximize\")\n",
        "    study.optimize(objective, n_trials=30)\n",
        "    # optunaで最適化したハイパーパラメータを用いて再学習\n",
        "    [YOUR CODE HERE]\n",
        "\n",
        "    trn_acc = svm_out.score(X[train_itr], y[train_itr])\n",
        "    tst_acc = svm_out.score(X[test_itr], y[test_itr])\n",
        "    acc_trn_list.append(trn_acc)\n",
        "    acc_tst_list.append(tst_acc)\n",
        "    param_list.append(study.best_params)"
      ]
    },
    {
      "cell_type": "markdown",
      "metadata": {
        "id": "uTUR4QoXJoOq"
      },
      "source": [
        "### 平均Accuracy"
      ]
    },
    {
      "cell_type": "code",
      "execution_count": null,
      "metadata": {
        "id": "1QRAneIPJoOq"
      },
      "outputs": [],
      "source": [
        "print('Training data: %1.3f' % np.mean(acc_trn_list))\n",
        "print('Test data: %1.3f' % np.mean(acc_tst_list))"
      ]
    },
    {
      "cell_type": "markdown",
      "metadata": {
        "id": "7NggUE3jJoOr"
      },
      "source": [
        "### Best パラメータを表示"
      ]
    },
    {
      "cell_type": "code",
      "execution_count": null,
      "metadata": {
        "id": "IA0OV_1-JoOr"
      },
      "outputs": [],
      "source": [
        "for k , param in enumerate(param_list):\n",
        "     print('Fold #{:2d}; Best Parameter: {}, Accuracy: {:.3f}'.format(k+1,param,acc_tst_list[k]))"
      ]
    },
    {
      "cell_type": "markdown",
      "metadata": {
        "id": "-wnqO7HdJoOr"
      },
      "source": [
        "###  ハイパーパラメータをひとつに決めた場合の評価\n",
        "- 交差検証を行いテストデータに対する平均Accuracyを算出"
      ]
    },
    {
      "cell_type": "code",
      "execution_count": null,
      "metadata": {
        "id": "e6CTsQpPJoOr"
      },
      "outputs": [],
      "source": [
        "[YOUR CODE HERE]"
      ]
    }
  ],
  "metadata": {
    "kernelspec": {
      "display_name": "Python 3 (ipykernel)",
      "language": "python",
      "name": "python3"
    },
    "language_info": {
      "codemirror_mode": {
        "name": "ipython",
        "version": 3
      },
      "file_extension": ".py",
      "mimetype": "text/x-python",
      "name": "python",
      "nbconvert_exporter": "python",
      "pygments_lexer": "ipython3",
      "version": "3.8.16"
    },
    "colab": {
      "provenance": []
    }
  },
  "nbformat": 4,
  "nbformat_minor": 0
}